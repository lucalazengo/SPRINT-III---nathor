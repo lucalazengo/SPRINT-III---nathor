{
 "cells": [
  {
   "cell_type": "code",
   "execution_count": 1,
   "id": "6769e39b",
   "metadata": {},
   "outputs": [
    {
     "name": "stdout",
     "output_type": "stream",
     "text": [
      "Versão da linguagem Python usada no ambiente virtual desse projeto: 3.12.3\n"
     ]
    }
   ],
   "source": [
    "#versão da Linguagem Python\n",
    "from platform import python_version\n",
    "print('Versão da linguagem Python usada no ambiente virtual desse projeto:', python_version())"
   ]
  },
  {
   "cell_type": "code",
   "execution_count": null,
   "id": "67db2ac7",
   "metadata": {},
   "outputs": [
    {
     "name": "stdout",
     "output_type": "stream",
     "text": [
      "Diretório de dados brutos: ../data/raw\n",
      "Diretório de dados processados: ../data/processed\n",
      "Configuração concluída com sucesso.\n"
     ]
    }
   ],
   "source": [
    "# ==============================================================================\n",
    "# CÉLULA 1: CONFIGURAÇÃO DO AMBIENTE E DEFINIÇÃO DE CAMINHOS\n",
    "# ==============================================================================\n",
    "#\n",
    "# Objetivo:\n",
    "# 1. Importar todas as bibliotecas necessárias para o projeto em um único local.\n",
    "# 2. Definir os caminhos para os diretórios de dados brutos e processados.\n",
    "# 3. Criar o diretório de dados processados caso ele não exista.\n",
    "#\n",
    "# ==============================================================================\n",
    "import sys  # Módulo para interagir com o interpretador Python\n",
    "import os   # Módulo para operações do sistema operacional\n",
    "\n",
    "# Manipulação de dados\n",
    "import pandas as pd\n",
    "import numpy as np\n",
    "import re\n",
    "\n",
    "# --- Definição dos Caminhos Principais ---\n",
    "\n",
    "# Define o caminho base para a pasta de dados.\n",
    "# O uso de os.path.join garante que os caminhos sejam compatíveis com qualquer sistema operacional.\n",
    "BASE_DIR = '../data'\n",
    "RAW_DATA_PATH = os.path.join(BASE_DIR, 'raw')\n",
    "PROCESSED_DATA_PATH = os.path.join(BASE_DIR, 'processed')\n",
    "\n",
    "# --- Criação do Diretório de Saída ---\n",
    "\n",
    "# Verifica se o diretório para salvar os arquivos processados já existe.\n",
    "# Se não existir, ele é criado. O argumento 'exist_ok=True' previne erros\n",
    "# caso o diretório já tenha sido criado.\n",
    "os.makedirs(PROCESSED_DATA_PATH, exist_ok=True)\n",
    "\n",
    "print(f\"Diretório de dados brutos: {RAW_DATA_PATH}\")\n",
    "print(f\"Diretório de dados processados: {PROCESSED_DATA_PATH}\")\n",
    "print(\"Configuração concluída com sucesso.\")"
   ]
  },
  {
   "cell_type": "code",
   "execution_count": 4,
   "id": "6ca1579f",
   "metadata": {},
   "outputs": [
    {
     "name": "stdout",
     "output_type": "stream",
     "text": [
      "1. Arquivo 'Dicionário cores.csv' carregado com sucesso.\n",
      "2. Arquivo 'Estruturas - Produto x Tinta Pó.csv' carregado com sucesso.\n",
      "3. Arquivo 'dados.csv' (gancheiras) carregado com sucesso.\n",
      "\n",
      "--- Verificação do DataFrame de Cores (df_cores_raw) ---\n",
      "<class 'pandas.core.frame.DataFrame'>\n",
      "RangeIndex: 54 entries, 0 to 53\n",
      "Data columns (total 3 columns):\n",
      " #   Column                Non-Null Count  Dtype \n",
      "---  ------                --------------  ----- \n",
      " 0   COR_APELIDO           54 non-null     object\n",
      " 1   DESCRICAO_COMPONENTE  54 non-null     object\n",
      " 2   CODIGO_COMPONENTE     54 non-null     int64 \n",
      "dtypes: int64(1), object(2)\n",
      "memory usage: 1.4+ KB\n"
     ]
    },
    {
     "data": {
      "application/vnd.microsoft.datawrangler.viewer.v0+json": {
       "columns": [
        {
         "name": "index",
         "rawType": "int64",
         "type": "integer"
        },
        {
         "name": "COR_APELIDO",
         "rawType": "object",
         "type": "string"
        },
        {
         "name": "DESCRICAO_COMPONENTE",
         "rawType": "object",
         "type": "string"
        },
        {
         "name": "CODIGO_COMPONENTE",
         "rawType": "int64",
         "type": "integer"
        }
       ],
       "ref": "d48dc78f-cb55-45a7-af99-30b028106039",
       "rows": [
        [
         "0",
         "AMARELO DOURADO",
         "TINTA EM PO AMARELO DOURADO",
         "504010130069"
        ],
        [
         "1",
         "amarelo dourado free",
         "TINTA HIBRID TGIC FREE AMARELO DOURADO",
         "504010130088"
        ],
        [
         "2",
         "azul clarinho",
         "TINTA EM PO AZUL CLARINHO 283",
         "504010130042"
        ],
        [
         "3",
         "AZUL CLARINHOFREE",
         "TINTA HIBRID TGIC FREE AZUL BEBE",
         "504010130087"
        ],
        [
         "4",
         "azul escuro",
         "TINTA EM PO AZUL ESCURO",
         "504010130006"
        ]
       ],
       "shape": {
        "columns": 3,
        "rows": 5
       }
      },
      "text/html": [
       "<div>\n",
       "<style scoped>\n",
       "    .dataframe tbody tr th:only-of-type {\n",
       "        vertical-align: middle;\n",
       "    }\n",
       "\n",
       "    .dataframe tbody tr th {\n",
       "        vertical-align: top;\n",
       "    }\n",
       "\n",
       "    .dataframe thead th {\n",
       "        text-align: right;\n",
       "    }\n",
       "</style>\n",
       "<table border=\"1\" class=\"dataframe\">\n",
       "  <thead>\n",
       "    <tr style=\"text-align: right;\">\n",
       "      <th></th>\n",
       "      <th>COR_APELIDO</th>\n",
       "      <th>DESCRICAO_COMPONENTE</th>\n",
       "      <th>CODIGO_COMPONENTE</th>\n",
       "    </tr>\n",
       "  </thead>\n",
       "  <tbody>\n",
       "    <tr>\n",
       "      <th>0</th>\n",
       "      <td>AMARELO DOURADO</td>\n",
       "      <td>TINTA EM PO AMARELO DOURADO</td>\n",
       "      <td>504010130069</td>\n",
       "    </tr>\n",
       "    <tr>\n",
       "      <th>1</th>\n",
       "      <td>amarelo dourado free</td>\n",
       "      <td>TINTA HIBRID TGIC FREE AMARELO DOURADO</td>\n",
       "      <td>504010130088</td>\n",
       "    </tr>\n",
       "    <tr>\n",
       "      <th>2</th>\n",
       "      <td>azul clarinho</td>\n",
       "      <td>TINTA EM PO AZUL CLARINHO 283</td>\n",
       "      <td>504010130042</td>\n",
       "    </tr>\n",
       "    <tr>\n",
       "      <th>3</th>\n",
       "      <td>AZUL CLARINHOFREE</td>\n",
       "      <td>TINTA HIBRID TGIC FREE AZUL BEBE</td>\n",
       "      <td>504010130087</td>\n",
       "    </tr>\n",
       "    <tr>\n",
       "      <th>4</th>\n",
       "      <td>azul escuro</td>\n",
       "      <td>TINTA EM PO AZUL ESCURO</td>\n",
       "      <td>504010130006</td>\n",
       "    </tr>\n",
       "  </tbody>\n",
       "</table>\n",
       "</div>"
      ],
      "text/plain": [
       "            COR_APELIDO                    DESCRICAO_COMPONENTE  \\\n",
       "0       AMARELO DOURADO             TINTA EM PO AMARELO DOURADO   \n",
       "1  amarelo dourado free  TINTA HIBRID TGIC FREE AMARELO DOURADO   \n",
       "2         azul clarinho           TINTA EM PO AZUL CLARINHO 283   \n",
       "3     AZUL CLARINHOFREE        TINTA HIBRID TGIC FREE AZUL BEBE   \n",
       "4           azul escuro                 TINTA EM PO AZUL ESCURO   \n",
       "\n",
       "   CODIGO_COMPONENTE  \n",
       "0       504010130069  \n",
       "1       504010130088  \n",
       "2       504010130042  \n",
       "3       504010130087  \n",
       "4       504010130006  "
      ]
     },
     "metadata": {},
     "output_type": "display_data"
    },
    {
     "name": "stdout",
     "output_type": "stream",
     "text": [
      "\n",
      "--- Verificação do DataFrame de Estruturas (df_estruturas_raw) ---\n",
      "<class 'pandas.core.frame.DataFrame'>\n",
      "RangeIndex: 1142 entries, 0 to 1141\n",
      "Data columns (total 8 columns):\n",
      " #   Column                  Non-Null Count  Dtype  \n",
      "---  ------                  --------------  -----  \n",
      " 0   CODIGO_PRODUTO          1141 non-null   float64\n",
      " 1   Complemento             1141 non-null   object \n",
      " 2   DESCRICAO_PRODUTO       1141 non-null   object \n",
      " 3   CODIGO_COMPONENTE       1141 non-null   float64\n",
      " 4   Complemento_Componente  1141 non-null   object \n",
      " 5   PINTURA_ITEM            652 non-null    object \n",
      " 6   LINHA                   718 non-null    object \n",
      " 7   DESCRICAO_COMPONENTE    1141 non-null   object \n",
      "dtypes: float64(2), object(6)\n",
      "memory usage: 71.5+ KB\n"
     ]
    },
    {
     "data": {
      "application/vnd.microsoft.datawrangler.viewer.v0+json": {
       "columns": [
        {
         "name": "index",
         "rawType": "int64",
         "type": "integer"
        },
        {
         "name": "CODIGO_PRODUTO",
         "rawType": "float64",
         "type": "float"
        },
        {
         "name": "Complemento",
         "rawType": "object",
         "type": "string"
        },
        {
         "name": "DESCRICAO_PRODUTO",
         "rawType": "object",
         "type": "string"
        },
        {
         "name": "CODIGO_COMPONENTE",
         "rawType": "float64",
         "type": "float"
        },
        {
         "name": "Complemento_Componente",
         "rawType": "object",
         "type": "string"
        },
        {
         "name": "PINTURA_ITEM",
         "rawType": "object",
         "type": "unknown"
        },
        {
         "name": "LINHA",
         "rawType": "object",
         "type": "unknown"
        },
        {
         "name": "DESCRICAO_COMPONENTE",
         "rawType": "object",
         "type": "string"
        }
       ],
       "ref": "584e2201-96fb-426f-aca1-a032946f1c20",
       "rows": [
        [
         "0",
         "100010160035.0",
         "   ",
         "BICICLETA ARO 12 BLACK 12 4 ",
         "206010180001.0",
         "0001  ",
         "Garfo 12",
         "Aro 12",
         "PINTURA GARFO DIANTEIRO ARO 12 PRETO "
        ],
        [
         "1",
         "100010160035.0",
         "   ",
         "BICICLETA ARO 12 BLACK 12 4 ",
         "206010180002.0",
         "0001  ",
         "Guidão 12",
         "Aro 12",
         "PINTURA GUIDAO ARO 12 PRETO "
        ],
        [
         "2",
         "100010160035.0",
         "   ",
         "BICICLETA ARO 12 BLACK 12 4 ",
         "206010180009.0",
         "0001  ",
         "Quadro 12",
         "Aro 12",
         "PINTURA QUADRO ARO 12 MOD02 PRETO "
        ],
        [
         "3",
         "100010160035.0",
         "   ",
         "BICICLETA ARO 12 BLACK 12 4 ",
         "304510180003.0",
         "0002  ",
         "Pedivela 12",
         "Aro 12",
         "PINTURA PEDIVELA BRANCO "
        ],
        [
         "4",
         "100010160035.0",
         "   ",
         "BICICLETA ARO 12 BLACK 12 4 ",
         "504010130001.0",
         "   ",
         null,
         null,
         "TINTA EM PO BRANCA "
        ]
       ],
       "shape": {
        "columns": 8,
        "rows": 5
       }
      },
      "text/html": [
       "<div>\n",
       "<style scoped>\n",
       "    .dataframe tbody tr th:only-of-type {\n",
       "        vertical-align: middle;\n",
       "    }\n",
       "\n",
       "    .dataframe tbody tr th {\n",
       "        vertical-align: top;\n",
       "    }\n",
       "\n",
       "    .dataframe thead th {\n",
       "        text-align: right;\n",
       "    }\n",
       "</style>\n",
       "<table border=\"1\" class=\"dataframe\">\n",
       "  <thead>\n",
       "    <tr style=\"text-align: right;\">\n",
       "      <th></th>\n",
       "      <th>CODIGO_PRODUTO</th>\n",
       "      <th>Complemento</th>\n",
       "      <th>DESCRICAO_PRODUTO</th>\n",
       "      <th>CODIGO_COMPONENTE</th>\n",
       "      <th>Complemento_Componente</th>\n",
       "      <th>PINTURA_ITEM</th>\n",
       "      <th>LINHA</th>\n",
       "      <th>DESCRICAO_COMPONENTE</th>\n",
       "    </tr>\n",
       "  </thead>\n",
       "  <tbody>\n",
       "    <tr>\n",
       "      <th>0</th>\n",
       "      <td>1.000102e+11</td>\n",
       "      <td></td>\n",
       "      <td>BICICLETA ARO 12 BLACK 12 4</td>\n",
       "      <td>2.060102e+11</td>\n",
       "      <td>0001</td>\n",
       "      <td>Garfo 12</td>\n",
       "      <td>Aro 12</td>\n",
       "      <td>PINTURA GARFO DIANTEIRO ARO 12 PRETO</td>\n",
       "    </tr>\n",
       "    <tr>\n",
       "      <th>1</th>\n",
       "      <td>1.000102e+11</td>\n",
       "      <td></td>\n",
       "      <td>BICICLETA ARO 12 BLACK 12 4</td>\n",
       "      <td>2.060102e+11</td>\n",
       "      <td>0001</td>\n",
       "      <td>Guidão 12</td>\n",
       "      <td>Aro 12</td>\n",
       "      <td>PINTURA GUIDAO ARO 12 PRETO</td>\n",
       "    </tr>\n",
       "    <tr>\n",
       "      <th>2</th>\n",
       "      <td>1.000102e+11</td>\n",
       "      <td></td>\n",
       "      <td>BICICLETA ARO 12 BLACK 12 4</td>\n",
       "      <td>2.060102e+11</td>\n",
       "      <td>0001</td>\n",
       "      <td>Quadro 12</td>\n",
       "      <td>Aro 12</td>\n",
       "      <td>PINTURA QUADRO ARO 12 MOD02 PRETO</td>\n",
       "    </tr>\n",
       "    <tr>\n",
       "      <th>3</th>\n",
       "      <td>1.000102e+11</td>\n",
       "      <td></td>\n",
       "      <td>BICICLETA ARO 12 BLACK 12 4</td>\n",
       "      <td>3.045102e+11</td>\n",
       "      <td>0002</td>\n",
       "      <td>Pedivela 12</td>\n",
       "      <td>Aro 12</td>\n",
       "      <td>PINTURA PEDIVELA BRANCO</td>\n",
       "    </tr>\n",
       "    <tr>\n",
       "      <th>4</th>\n",
       "      <td>1.000102e+11</td>\n",
       "      <td></td>\n",
       "      <td>BICICLETA ARO 12 BLACK 12 4</td>\n",
       "      <td>5.040101e+11</td>\n",
       "      <td></td>\n",
       "      <td>NaN</td>\n",
       "      <td>NaN</td>\n",
       "      <td>TINTA EM PO BRANCA</td>\n",
       "    </tr>\n",
       "  </tbody>\n",
       "</table>\n",
       "</div>"
      ],
      "text/plain": [
       "   CODIGO_PRODUTO Complemento             DESCRICAO_PRODUTO  \\\n",
       "0    1.000102e+11              BICICLETA ARO 12 BLACK 12 4    \n",
       "1    1.000102e+11              BICICLETA ARO 12 BLACK 12 4    \n",
       "2    1.000102e+11              BICICLETA ARO 12 BLACK 12 4    \n",
       "3    1.000102e+11              BICICLETA ARO 12 BLACK 12 4    \n",
       "4    1.000102e+11              BICICLETA ARO 12 BLACK 12 4    \n",
       "\n",
       "   CODIGO_COMPONENTE Complemento_Componente PINTURA_ITEM   LINHA  \\\n",
       "0       2.060102e+11                 0001       Garfo 12  Aro 12   \n",
       "1       2.060102e+11                 0001      Guidão 12  Aro 12   \n",
       "2       2.060102e+11                 0001      Quadro 12  Aro 12   \n",
       "3       3.045102e+11                 0002    Pedivela 12  Aro 12   \n",
       "4       5.040101e+11                                 NaN     NaN   \n",
       "\n",
       "                    DESCRICAO_COMPONENTE  \n",
       "0  PINTURA GARFO DIANTEIRO ARO 12 PRETO   \n",
       "1           PINTURA GUIDAO ARO 12 PRETO   \n",
       "2     PINTURA QUADRO ARO 12 MOD02 PRETO   \n",
       "3               PINTURA PEDIVELA BRANCO   \n",
       "4                    TINTA EM PO BRANCA   "
      ]
     },
     "metadata": {},
     "output_type": "display_data"
    },
    {
     "name": "stdout",
     "output_type": "stream",
     "text": [
      "\n",
      "--- Verificação do DataFrame de Gancheiras (df_gancheiras_raw) ---\n",
      "<class 'pandas.core.frame.DataFrame'>\n",
      "RangeIndex: 37 entries, 0 to 36\n",
      "Data columns (total 9 columns):\n",
      " #   Column              Non-Null Count  Dtype  \n",
      "---  ------              --------------  -----  \n",
      " 0   Componente          37 non-null     object \n",
      " 1   Linha               37 non-null     object \n",
      " 2   Peças p/ gancheira  37 non-null     int64  \n",
      " 3   Espaçamento         37 non-null     object \n",
      " 4   PINOS               34 non-null     float64\n",
      " 5   Estoque Gancheiras  31 non-null     float64\n",
      " 6   Altura              31 non-null     object \n",
      " 7   Largura             31 non-null     object \n",
      " 8   Peso (kg)           31 non-null     object \n",
      "dtypes: float64(2), int64(1), object(6)\n",
      "memory usage: 2.7+ KB\n"
     ]
    },
    {
     "data": {
      "application/vnd.microsoft.datawrangler.viewer.v0+json": {
       "columns": [
        {
         "name": "index",
         "rawType": "int64",
         "type": "integer"
        },
        {
         "name": "Componente",
         "rawType": "object",
         "type": "string"
        },
        {
         "name": "Linha",
         "rawType": "object",
         "type": "string"
        },
        {
         "name": "Peças p/ gancheira",
         "rawType": "int64",
         "type": "integer"
        },
        {
         "name": "Espaçamento",
         "rawType": "object",
         "type": "string"
        },
        {
         "name": "PINOS ",
         "rawType": "float64",
         "type": "float"
        },
        {
         "name": "Estoque Gancheiras",
         "rawType": "float64",
         "type": "float"
        },
        {
         "name": "Altura",
         "rawType": "object",
         "type": "string"
        },
        {
         "name": "Largura",
         "rawType": "object",
         "type": "string"
        },
        {
         "name": "Peso (kg)",
         "rawType": "object",
         "type": "string"
        }
       ],
       "ref": "dd73ef88-64ab-4118-bf29-5a5f6c75a737",
       "rows": [
        [
         "0",
         "Pedivela 12",
         "Aro 12",
         "44",
         "0,80",
         "1.0",
         "150.0",
         "1,53",
         "60c",
         "2,500"
        ],
        [
         "1",
         "Quadro 12",
         "Aro 12",
         "8",
         "0,90",
         "1.0",
         "166.0",
         "1,75",
         "30c",
         "2,300"
        ],
        [
         "2",
         "Garfo 12",
         "Aro 12",
         "24",
         "1,20",
         "1.0",
         "114.0",
         "1,75",
         "73c ",
         "5,400"
        ],
        [
         "3",
         "Guidão 12",
         "Aro 12",
         "26",
         "1,20",
         "1.0",
         "116.0",
         "1,94",
         "23c",
         "2,480"
        ],
        [
         "4",
         "Canote do Selim",
         "Aro 16",
         "26",
         "0,80",
         "1.0",
         "116.0",
         "1,94",
         "23c",
         "2,480"
        ]
       ],
       "shape": {
        "columns": 9,
        "rows": 5
       }
      },
      "text/html": [
       "<div>\n",
       "<style scoped>\n",
       "    .dataframe tbody tr th:only-of-type {\n",
       "        vertical-align: middle;\n",
       "    }\n",
       "\n",
       "    .dataframe tbody tr th {\n",
       "        vertical-align: top;\n",
       "    }\n",
       "\n",
       "    .dataframe thead th {\n",
       "        text-align: right;\n",
       "    }\n",
       "</style>\n",
       "<table border=\"1\" class=\"dataframe\">\n",
       "  <thead>\n",
       "    <tr style=\"text-align: right;\">\n",
       "      <th></th>\n",
       "      <th>Componente</th>\n",
       "      <th>Linha</th>\n",
       "      <th>Peças p/ gancheira</th>\n",
       "      <th>Espaçamento</th>\n",
       "      <th>PINOS</th>\n",
       "      <th>Estoque Gancheiras</th>\n",
       "      <th>Altura</th>\n",
       "      <th>Largura</th>\n",
       "      <th>Peso (kg)</th>\n",
       "    </tr>\n",
       "  </thead>\n",
       "  <tbody>\n",
       "    <tr>\n",
       "      <th>0</th>\n",
       "      <td>Pedivela 12</td>\n",
       "      <td>Aro 12</td>\n",
       "      <td>44</td>\n",
       "      <td>0,80</td>\n",
       "      <td>1.0</td>\n",
       "      <td>150.0</td>\n",
       "      <td>1,53</td>\n",
       "      <td>60c</td>\n",
       "      <td>2,500</td>\n",
       "    </tr>\n",
       "    <tr>\n",
       "      <th>1</th>\n",
       "      <td>Quadro 12</td>\n",
       "      <td>Aro 12</td>\n",
       "      <td>8</td>\n",
       "      <td>0,90</td>\n",
       "      <td>1.0</td>\n",
       "      <td>166.0</td>\n",
       "      <td>1,75</td>\n",
       "      <td>30c</td>\n",
       "      <td>2,300</td>\n",
       "    </tr>\n",
       "    <tr>\n",
       "      <th>2</th>\n",
       "      <td>Garfo 12</td>\n",
       "      <td>Aro 12</td>\n",
       "      <td>24</td>\n",
       "      <td>1,20</td>\n",
       "      <td>1.0</td>\n",
       "      <td>114.0</td>\n",
       "      <td>1,75</td>\n",
       "      <td>73c</td>\n",
       "      <td>5,400</td>\n",
       "    </tr>\n",
       "    <tr>\n",
       "      <th>3</th>\n",
       "      <td>Guidão 12</td>\n",
       "      <td>Aro 12</td>\n",
       "      <td>26</td>\n",
       "      <td>1,20</td>\n",
       "      <td>1.0</td>\n",
       "      <td>116.0</td>\n",
       "      <td>1,94</td>\n",
       "      <td>23c</td>\n",
       "      <td>2,480</td>\n",
       "    </tr>\n",
       "    <tr>\n",
       "      <th>4</th>\n",
       "      <td>Canote do Selim</td>\n",
       "      <td>Aro 16</td>\n",
       "      <td>26</td>\n",
       "      <td>0,80</td>\n",
       "      <td>1.0</td>\n",
       "      <td>116.0</td>\n",
       "      <td>1,94</td>\n",
       "      <td>23c</td>\n",
       "      <td>2,480</td>\n",
       "    </tr>\n",
       "  </tbody>\n",
       "</table>\n",
       "</div>"
      ],
      "text/plain": [
       "        Componente   Linha  Peças p/ gancheira Espaçamento  PINOS   \\\n",
       "0      Pedivela 12  Aro 12                  44        0,80     1.0   \n",
       "1        Quadro 12  Aro 12                   8        0,90     1.0   \n",
       "2         Garfo 12  Aro 12                  24        1,20     1.0   \n",
       "3        Guidão 12  Aro 12                  26        1,20     1.0   \n",
       "4  Canote do Selim  Aro 16                  26        0,80     1.0   \n",
       "\n",
       "   Estoque Gancheiras Altura Largura Peso (kg)  \n",
       "0               150.0   1,53     60c     2,500  \n",
       "1               166.0   1,75     30c     2,300  \n",
       "2               114.0   1,75    73c      5,400  \n",
       "3               116.0   1,94     23c     2,480  \n",
       "4               116.0   1,94     23c     2,480  "
      ]
     },
     "metadata": {},
     "output_type": "display_data"
    }
   ],
   "source": [
    "# ==============================================================================\n",
    "# CÉLULA 2: CARREGAMENTO DOS DADOS BRUTOS\n",
    "# ==============================================================================\n",
    "#\n",
    "# Objetivo:\n",
    "# 1. Carregar todos os arquivos CSV da pasta 'raw' para DataFrames do pandas.\n",
    "# 2. Especificar a codificação correta (encoding) e o separador (sep) para\n",
    "#    garantir a leitura correta dos dados.\n",
    "# 3. Exibir as primeiras linhas e informações de cada DataFrame para uma\n",
    "#    verificação inicial da carga.\n",
    "#\n",
    "# ==============================================================================\n",
    "\n",
    "try:\n",
    "    # --- Carregando Dicionário de Cores ---\n",
    "    # Contém os códigos de componente para cada tinta e suas descrições.\n",
    "    file_path_cores = os.path.join(RAW_DATA_PATH, '2025-06-13 - Dicionário cores.csv')\n",
    "    df_cores_raw = pd.read_csv(file_path_cores, sep=';', encoding='utf-8')\n",
    "    print(\"1. Arquivo 'Dicionário cores.csv' carregado com sucesso.\")\n",
    "    \n",
    "    # --- Carregando Estrutura de Produtos ---\n",
    "    # Contém a lista de materiais (BOM), relacionando produtos aos seus componentes de pintura.\n",
    "    file_path_estruturas = os.path.join(RAW_DATA_PATH, '2025-06-13 - Estruturas - Produto x Tinta Pó - atualizado.csv')\n",
    "    df_estruturas_raw = pd.read_csv(file_path_estruturas, sep=';', encoding='utf-8')\n",
    "    print(\"2. Arquivo 'Estruturas - Produto x Tinta Pó.csv' carregado com sucesso.\")\n",
    "\n",
    "    # --- Carregando Dados de Gancheiras/Componentes ---\n",
    "    # Contém detalhes técnicos dos componentes, como dimensões e peso.\n",
    "    file_path_gancheiras = os.path.join(RAW_DATA_PATH, 'dados.csv')\n",
    "    df_gancheiras_raw = pd.read_csv(file_path_gancheiras, sep=';', encoding='utf-8')\n",
    "    print(\"3. Arquivo 'dados.csv' (gancheiras) carregado com sucesso.\")\n",
    "\n",
    "except FileNotFoundError as e:\n",
    "    print(f\"ERRO: Arquivo não encontrado. Verifique o caminho e o nome do arquivo. Detalhes: {e}\")\n",
    "\n",
    "# --- Verificação Inicial ---\n",
    "print(\"\\n--- Verificação do DataFrame de Cores (df_cores_raw) ---\")\n",
    "df_cores_raw.info()\n",
    "display(df_cores_raw.head())\n",
    "\n",
    "print(\"\\n--- Verificação do DataFrame de Estruturas (df_estruturas_raw) ---\")\n",
    "df_estruturas_raw.info()\n",
    "display(df_estruturas_raw.head())\n",
    "\n",
    "print(\"\\n--- Verificação do DataFrame de Gancheiras (df_gancheiras_raw) ---\")\n",
    "df_gancheiras_raw.info()\n",
    "display(df_gancheiras_raw.head())"
   ]
  },
  {
   "cell_type": "code",
   "execution_count": 7,
   "id": "3f7e5ec6",
   "metadata": {},
   "outputs": [
    {
     "name": "stdout",
     "output_type": "stream",
     "text": [
      "Dicionário de cores processado e salvo em:\n",
      "CSV: ../data/processed/Planilha_Cores.csv\n",
      "Excel: ../data/processed/Planilha_Cores.xlsx\n",
      "\n",
      "Amostra do Dicionário de Cores Processado:\n"
     ]
    },
    {
     "data": {
      "application/vnd.microsoft.datawrangler.viewer.v0+json": {
       "columns": [
        {
         "name": "index",
         "rawType": "int64",
         "type": "integer"
        },
        {
         "name": "CODIGO_COR",
         "rawType": "int64",
         "type": "integer"
        },
        {
         "name": "DESCRICAO_COR",
         "rawType": "object",
         "type": "string"
        },
        {
         "name": "DESC_COR",
         "rawType": "object",
         "type": "string"
        },
        {
         "name": "QUANTIDADE",
         "rawType": "int64",
         "type": "integer"
        },
        {
         "name": "VARIACOES_APELIDO",
         "rawType": "object",
         "type": "unknown"
        }
       ],
       "ref": "01e0983a-37f2-4809-9df6-b426a58130df",
       "rows": [
        [
         "0",
         "504010130001",
         "TINTA EM PO BRANCA",
         "branca",
         "3",
         "['branco', 'branco c /furo']"
        ],
        [
         "1",
         "504010130002",
         "TINTA EM PO ROSA ESCURO",
         "rosa escuro",
         "1",
         "['rosa escuro']"
        ],
        [
         "2",
         "504010130006",
         "TINTA EM PO AZUL ESCURO",
         "azul escuro",
         "2",
         "['azul escuro']"
        ],
        [
         "3",
         "504010130007",
         "TINTA EM PO PRETA",
         "preta",
         "3",
         "['preto']"
        ],
        [
         "4",
         "504010130010",
         "TINTA EM PO VERMELHO",
         "vermelho",
         "2",
         "['vermelho']"
        ]
       ],
       "shape": {
        "columns": 5,
        "rows": 5
       }
      },
      "text/html": [
       "<div>\n",
       "<style scoped>\n",
       "    .dataframe tbody tr th:only-of-type {\n",
       "        vertical-align: middle;\n",
       "    }\n",
       "\n",
       "    .dataframe tbody tr th {\n",
       "        vertical-align: top;\n",
       "    }\n",
       "\n",
       "    .dataframe thead th {\n",
       "        text-align: right;\n",
       "    }\n",
       "</style>\n",
       "<table border=\"1\" class=\"dataframe\">\n",
       "  <thead>\n",
       "    <tr style=\"text-align: right;\">\n",
       "      <th></th>\n",
       "      <th>CODIGO_COR</th>\n",
       "      <th>DESCRICAO_COR</th>\n",
       "      <th>DESC_COR</th>\n",
       "      <th>QUANTIDADE</th>\n",
       "      <th>VARIACOES_APELIDO</th>\n",
       "    </tr>\n",
       "  </thead>\n",
       "  <tbody>\n",
       "    <tr>\n",
       "      <th>0</th>\n",
       "      <td>504010130001</td>\n",
       "      <td>TINTA EM PO BRANCA</td>\n",
       "      <td>branca</td>\n",
       "      <td>3</td>\n",
       "      <td>[branco, branco c /furo]</td>\n",
       "    </tr>\n",
       "    <tr>\n",
       "      <th>1</th>\n",
       "      <td>504010130002</td>\n",
       "      <td>TINTA EM PO ROSA ESCURO</td>\n",
       "      <td>rosa escuro</td>\n",
       "      <td>1</td>\n",
       "      <td>[rosa escuro]</td>\n",
       "    </tr>\n",
       "    <tr>\n",
       "      <th>2</th>\n",
       "      <td>504010130006</td>\n",
       "      <td>TINTA EM PO AZUL ESCURO</td>\n",
       "      <td>azul escuro</td>\n",
       "      <td>2</td>\n",
       "      <td>[azul escuro]</td>\n",
       "    </tr>\n",
       "    <tr>\n",
       "      <th>3</th>\n",
       "      <td>504010130007</td>\n",
       "      <td>TINTA EM PO PRETA</td>\n",
       "      <td>preta</td>\n",
       "      <td>3</td>\n",
       "      <td>[preto]</td>\n",
       "    </tr>\n",
       "    <tr>\n",
       "      <th>4</th>\n",
       "      <td>504010130010</td>\n",
       "      <td>TINTA EM PO VERMELHO</td>\n",
       "      <td>vermelho</td>\n",
       "      <td>2</td>\n",
       "      <td>[vermelho]</td>\n",
       "    </tr>\n",
       "  </tbody>\n",
       "</table>\n",
       "</div>"
      ],
      "text/plain": [
       "     CODIGO_COR            DESCRICAO_COR     DESC_COR  QUANTIDADE  \\\n",
       "0  504010130001       TINTA EM PO BRANCA       branca           3   \n",
       "1  504010130002  TINTA EM PO ROSA ESCURO  rosa escuro           1   \n",
       "2  504010130006  TINTA EM PO AZUL ESCURO  azul escuro           2   \n",
       "3  504010130007        TINTA EM PO PRETA        preta           3   \n",
       "4  504010130010     TINTA EM PO VERMELHO     vermelho           2   \n",
       "\n",
       "          VARIACOES_APELIDO  \n",
       "0  [branco, branco c /furo]  \n",
       "1             [rosa escuro]  \n",
       "2             [azul escuro]  \n",
       "3                   [preto]  \n",
       "4                [vermelho]  "
      ]
     },
     "metadata": {},
     "output_type": "display_data"
    }
   ],
   "source": [
    "# ==============================================================================\n",
    "# CÉLULA 3: PROCESSAMENTO - CRIAÇÃO DO DICIONÁRIO DE CORES PADRONIZADO\n",
    "# ==============================================================================\n",
    "#\n",
    "# Objetivo:\n",
    "# 1. Transformar o arquivo bruto de cores em uma tabela de consulta (lookup table) limpa.\n",
    "# 2. Agrupar todas as variações de apelido ('COR_APELIDO') para um mesmo código de\n",
    "#    componente ('CODIGO_COMPONENTE').\n",
    "# 3. Criar uma descrição de cor padronizada ('DESC_COR') removendo prefixos como\n",
    "#    \"TINTA EM PO\" da descrição original.\n",
    "# 4. Renomear as colunas para um padrão claro e salvar o resultado como um\n",
    "#    arquivo processado, que servirá de base para os próximos passos.\n",
    "#\n",
    "# ==============================================================================\n",
    "\n",
    "# --- 1. Função para Limpeza dos Apelidos ---\n",
    "def limpar_e_unificar_apelidos(lista_apelidos):\n",
    "    \"\"\"\n",
    "    Limpa uma lista de apelidos, convertendo para minúsculas, removendo\n",
    "    espaços/vírgulas extras e eliminando duplicatas.\n",
    "    \"\"\"\n",
    "    apelidos_unicos = set()\n",
    "    for apelido in lista_apelidos:\n",
    "        apelido_limpo = str(apelido).lower().strip().rstrip(',')\n",
    "        if apelido_limpo:\n",
    "            apelidos_unicos.add(apelido_limpo)\n",
    "    return sorted(list(apelidos_unicos))\n",
    "\n",
    "# --- 2. Agregação e Consolidação ---\n",
    "df_consolidado = df_cores_raw.groupby('CODIGO_COMPONENTE').agg(\n",
    "    VARIACOES_APELIDO=('COR_APELIDO', list),\n",
    "    DESCRICAO_COR=('DESCRICAO_COMPONENTE', 'first'),\n",
    "    QUANTIDADE=('CODIGO_COMPONENTE', 'size')\n",
    ").reset_index()\n",
    "\n",
    "df_consolidado['VARIACOES_APELIDO'] = df_consolidado['VARIACOES_APELIDO'].apply(limpar_e_unificar_apelidos)\n",
    "\n",
    "# --- 3. Padronização da Descrição da Cor ---\n",
    "prefixos_remover = ['TINTA POLIESTER', 'TINTA POLIEST', 'TINTA EM PO', 'TINTA HIBRID']\n",
    "regex_prefixos = r'^(' + '|'.join(prefixos_remover) + ')'\n",
    "\n",
    "df_consolidado['DESC_COR'] = df_consolidado['DESCRICAO_COR'].str.replace(\n",
    "    regex_prefixos, '', regex=True, flags=re.IGNORECASE\n",
    ").str.strip().str.lower()\n",
    "\n",
    "# --- 4. Renomeação e Reorganização das Colunas ---\n",
    "df_consolidado = df_consolidado.rename(columns={'CODIGO_COMPONENTE': 'CODIGO_COR'})\n",
    "df_cores_processed = df_consolidado[['CODIGO_COR', 'DESCRICAO_COR', 'DESC_COR', 'QUANTIDADE', 'VARIACOES_APELIDO']]\n",
    "\n",
    "# --- 5. Exportação do DataFrame Processado ---\n",
    "output_path_csv = os.path.join(PROCESSED_DATA_PATH, 'Planilha_Cores.csv')\n",
    "output_path_xlsx = os.path.join(PROCESSED_DATA_PATH, 'Planilha_Cores.xlsx')\n",
    "\n",
    "df_cores_processed.to_csv(output_path_csv, index=False, encoding='utf-8')\n",
    "df_cores_processed.to_excel(output_path_xlsx, index=False)\n",
    "\n",
    "print(\"Dicionário de cores processado e salvo em:\")\n",
    "print(f\"CSV: {output_path_csv}\")\n",
    "print(f\"Excel: {output_path_xlsx}\")\n",
    "\n",
    "print(\"\\nAmostra do Dicionário de Cores Processado:\")\n",
    "display(df_cores_processed.head())"
   ]
  },
  {
   "cell_type": "code",
   "execution_count": 8,
   "id": "119b645a",
   "metadata": {},
   "outputs": [
    {
     "name": "stdout",
     "output_type": "stream",
     "text": [
      "Mapeamento de cores concluído. Total de falhas: 24\n",
      "\n",
      ">>> ATENÇÃO: As seguintes descrições de pintura não foram mapeadas:\n"
     ]
    },
    {
     "data": {
      "application/vnd.microsoft.datawrangler.viewer.v0+json": {
       "columns": [
        {
         "name": "index",
         "rawType": "int64",
         "type": "integer"
        },
        {
         "name": "DESCRICAO_COMPONENTE",
         "rawType": "object",
         "type": "string"
        }
       ],
       "ref": "336d660a-6b01-4d4d-817b-ec11dcc54753",
       "rows": [
        [
         "286",
         "PINTURA GARFO DIANTEIRO ARO 26 PEROLA "
        ],
        [
         "287",
         "PINTURA GUIDAO ARO 26 PEROLA "
        ],
        [
         "288",
         "PINTURA QUADRO ARO 26 PEROLA "
        ],
        [
         "289",
         "PINTURA CESTINHA ARO 26 MARROM  "
        ],
        [
         "290",
         "PINTURA BAGAGUEIRO TRASEIRO ARO 26 MAR ROM "
        ],
        [
         "322",
         "PINTURA GARFO DIANTEIRO ARO 26 AZUL RAL 5019 "
        ],
        [
         "323",
         "PINTURA GUIDAO ARO 26 AZUL RAL5019 "
        ],
        [
         "324",
         "PINTURA QUADRO ARO 26 AZUL RAL5019 "
        ],
        [
         "362",
         "PINTURA GUIDAO ARO 26 AZUL RAL5019 "
        ],
        [
         "365",
         "PINTURA GARFO DIANTEIRO ARO 26 MOBHIS 0 1 AZUL RAL5019 "
        ],
        [
         "366",
         "PINTURA QUADRO ARO 26 MOBHIS AZUL RAL5 019 "
        ],
        [
         "370",
         "PINTURA GARFO DIANTEIRO ARO 26 AZUL MAR INHO "
        ],
        [
         "371",
         "PINTURA GUIDAO ARO 26 AZUL MARINHO "
        ],
        [
         "373",
         "PINTURA QUADRO ARO 26 S/CAMBIO PE LATER AZUL MARINHO "
        ],
        [
         "471",
         "PINTURA GARFO DIANTEIRO ARO 26 AZUL RAL 5019 "
        ],
        [
         "472",
         "PINTURA GUIDAO ARO 26 AZUL RAL5019 "
        ],
        [
         "476",
         "PINTURA QUADRO ARO 26 INBRASUL RAL5019 "
        ],
        [
         "482",
         "PINTURA GARFO DIANTEIRO ARO 20 MOBHIS A ZUL 5019 "
        ],
        [
         "483",
         "PINTURA GUIDAO ARO 20 MOBHIS AZUL 5019 "
        ],
        [
         "484",
         "PINTURA QUADRO ARO 20 MOBHIS ABRAC AZU L 5019 "
        ],
        [
         "718",
         "PINTURA QUADRO ARO 12 BALANCE RAIADA A ZUL AZ "
        ],
        [
         "1010",
         "PINTURA GARFO DIANTEIRO ARO 26 MARROM "
        ],
        [
         "1011",
         "PINTURA GUIDAO ARO 26 MARROM "
        ],
        [
         "1015",
         "PINTURA QUADRO ARO 26 DEL MARE MARROM "
        ]
       ],
       "shape": {
        "columns": 1,
        "rows": 24
       }
      },
      "text/html": [
       "<div>\n",
       "<style scoped>\n",
       "    .dataframe tbody tr th:only-of-type {\n",
       "        vertical-align: middle;\n",
       "    }\n",
       "\n",
       "    .dataframe tbody tr th {\n",
       "        vertical-align: top;\n",
       "    }\n",
       "\n",
       "    .dataframe thead th {\n",
       "        text-align: right;\n",
       "    }\n",
       "</style>\n",
       "<table border=\"1\" class=\"dataframe\">\n",
       "  <thead>\n",
       "    <tr style=\"text-align: right;\">\n",
       "      <th></th>\n",
       "      <th>DESCRICAO_COMPONENTE</th>\n",
       "    </tr>\n",
       "  </thead>\n",
       "  <tbody>\n",
       "    <tr>\n",
       "      <th>286</th>\n",
       "      <td>PINTURA GARFO DIANTEIRO ARO 26 PEROLA</td>\n",
       "    </tr>\n",
       "    <tr>\n",
       "      <th>287</th>\n",
       "      <td>PINTURA GUIDAO ARO 26 PEROLA</td>\n",
       "    </tr>\n",
       "    <tr>\n",
       "      <th>288</th>\n",
       "      <td>PINTURA QUADRO ARO 26 PEROLA</td>\n",
       "    </tr>\n",
       "    <tr>\n",
       "      <th>289</th>\n",
       "      <td>PINTURA CESTINHA ARO 26 MARROM</td>\n",
       "    </tr>\n",
       "    <tr>\n",
       "      <th>290</th>\n",
       "      <td>PINTURA BAGAGUEIRO TRASEIRO ARO 26 MAR ROM</td>\n",
       "    </tr>\n",
       "    <tr>\n",
       "      <th>...</th>\n",
       "      <td>...</td>\n",
       "    </tr>\n",
       "    <tr>\n",
       "      <th>484</th>\n",
       "      <td>PINTURA QUADRO ARO 20 MOBHIS ABRAC AZU L 5019</td>\n",
       "    </tr>\n",
       "    <tr>\n",
       "      <th>718</th>\n",
       "      <td>PINTURA QUADRO ARO 12 BALANCE RAIADA A ZUL AZ</td>\n",
       "    </tr>\n",
       "    <tr>\n",
       "      <th>1010</th>\n",
       "      <td>PINTURA GARFO DIANTEIRO ARO 26 MARROM</td>\n",
       "    </tr>\n",
       "    <tr>\n",
       "      <th>1011</th>\n",
       "      <td>PINTURA GUIDAO ARO 26 MARROM</td>\n",
       "    </tr>\n",
       "    <tr>\n",
       "      <th>1015</th>\n",
       "      <td>PINTURA QUADRO ARO 26 DEL MARE MARROM</td>\n",
       "    </tr>\n",
       "  </tbody>\n",
       "</table>\n",
       "<p>24 rows × 1 columns</p>\n",
       "</div>"
      ],
      "text/plain": [
       "                                DESCRICAO_COMPONENTE\n",
       "286           PINTURA GARFO DIANTEIRO ARO 26 PEROLA \n",
       "287                    PINTURA GUIDAO ARO 26 PEROLA \n",
       "288                    PINTURA QUADRO ARO 26 PEROLA \n",
       "289                 PINTURA CESTINHA ARO 26 MARROM  \n",
       "290      PINTURA BAGAGUEIRO TRASEIRO ARO 26 MAR ROM \n",
       "...                                              ...\n",
       "484   PINTURA QUADRO ARO 20 MOBHIS ABRAC AZU L 5019 \n",
       "718   PINTURA QUADRO ARO 12 BALANCE RAIADA A ZUL AZ \n",
       "1010          PINTURA GARFO DIANTEIRO ARO 26 MARROM \n",
       "1011                   PINTURA GUIDAO ARO 26 MARROM \n",
       "1015          PINTURA QUADRO ARO 26 DEL MARE MARROM \n",
       "\n",
       "[24 rows x 1 columns]"
      ]
     },
     "metadata": {},
     "output_type": "display_data"
    },
    {
     "name": "stdout",
     "output_type": "stream",
     "text": [
      "\n",
      "Estrutura de produtos com cores extraídas salva em: ../data/processed/produtos_com_cores_mapeadas.csv\n"
     ]
    },
    {
     "name": "stderr",
     "output_type": "stream",
     "text": [
      "/tmp/ipykernel_19006/1027354362.py:79: FutureWarning: A value is trying to be set on a copy of a DataFrame or Series through chained assignment using an inplace method.\n",
      "The behavior will change in pandas 3.0. This inplace method will never work because the intermediate object on which we are setting values always behaves as a copy.\n",
      "\n",
      "For example, when doing 'df[col].method(value, inplace=True)', try using 'df.method({col: value}, inplace=True)' or df[col] = df[col].method(value) instead, to perform the operation inplace on the original object.\n",
      "\n",
      "\n",
      "  df_estruturas_processed['DESC_COR'].replace('nao_mapeado', np.nan, inplace=True)\n"
     ]
    }
   ],
   "source": [
    "# ==============================================================================\n",
    "# CÉLULA 4: PROCESSAMENTO - EXTRAÇÃO DE CORES DA ESTRUTURA DE PRODUTOS\n",
    "# ==============================================================================\n",
    "#\n",
    "# Objetivo:\n",
    "# 1. Mapear as descrições de pintura (ex: \"PINTURA QUADRO ARO 12 PRETO\") para\n",
    "#    uma cor padronizada (ex: \"preta\").\n",
    "# 2. Usar uma lista de regras (MAPA_DE_CORES) para fazer essa correspondência.\n",
    "#    As regras são ordenadas da mais específica para a mais geral para evitar\n",
    "#    erros de mapeamento (ex: \"PRETO FOSCO\" é verificado antes de \"PRETO\").\n",
    "# 3. Criar uma nova coluna 'DESC_COR' no DataFrame de estruturas.\n",
    "# 4. Validar o processo, mostrando quantas cores foram mapeadas com sucesso\n",
    "#    e quais falharam, para facilitar a manutenção das regras.\n",
    "#\n",
    "# ==============================================================================\n",
    "\n",
    "# --- 1. Definição do Mapa de Regras de Extração ---\n",
    "MAPA_DE_CORES = [\n",
    "    (['GRAFITEMETALICOFOSCO'], 'grafite metalico fosco'),\n",
    "    (['AZULBRILHANTEFLEX'], 'azul brilhante flex'),\n",
    "    (['PRETOGRAFITE'], 'tgic free preto grafite'),\n",
    "    (['AMARELODOURADO'], 'amarelo dourado'),\n",
    "    (['ROSAESCURO', 'ROSAESCU'], 'rosa escuro'),\n",
    "    (['AZULESCURO'], 'azul escuro'),\n",
    "    (['ROSACLARO', 'ROSACLAR'], 'rosa claro'),\n",
    "    (['AZULCLARO', 'AZULCLARINHO'], 'azul claro'),\n",
    "    (['ROSAMETALICO', 'ROSAMETALI'], 'rosa metalico aro 26'),\n",
    "    (['PRETOFOSCO'], 'preto fosco'),\n",
    "    (['ROSACHICLETE', 'ROSACHICL'], 'rosa chiclete'),\n",
    "    (['CORALPINK', 'CORALPI'], 'coral pink'),\n",
    "    (['AZULBEBE'], 'tgic free azul bebe'),\n",
    "    (['ROSABEBE'], 'tgic free rosa bebe'),\n",
    "    (['ROSAPEROL'], 'tgic free rosa perolizado'),\n",
    "    (['ABRACADEIRASELIM16/BALANCE'], 'preta'),\n",
    "    (['AZULFLEX'], 'tgic free azul flex'),\n",
    "    (['LILAS-BANDEIRANTE', 'LILASBANDEIRANTE'], 'lilas - bandeirantes'),\n",
    "    (['VERDEAQ', 'VERDEAQUA'], 'verde'),\n",
    "    (['GRAFITE'], 'grafite metalico fosco'),\n",
    "    (['BRANCO', 'BRANCA'], 'branca'),\n",
    "    (['VERMELHO'], 'vermelho'),\n",
    "    (['CINZA'], 'cinza'),\n",
    "    (['LILAS'], 'lilas - bandeirantes'),\n",
    "    (['ROSA'], 'rosa metalico aro 26'),\n",
    "    (['VERDE'], 'verde'),\n",
    "    (['COBRE'], 'preto fosco'),\n",
    "    (['AMARELO'], 'amarelo dourado'),\n",
    "    (['PRETO'], 'preta'),\n",
    "    (['PRATA'], 'tgic free prata'),\n",
    "    (['LARANJA'], 'laranja fosco')\n",
    "]\n",
    "\n",
    "# --- 2. Função para Mapear a Cor ---\n",
    "def mapear_e_extrair_cor(descricao):\n",
    "    if not isinstance(descricao, str) or not descricao.upper().startswith('PINTURA'):\n",
    "        return np.nan\n",
    "    descricao_limpa = re.sub(r'[\\s-]', '', descricao.upper())\n",
    "    for variacoes, cor_final in MAPA_DE_CORES:\n",
    "        for variacao in variacoes:\n",
    "            if variacao in descricao_limpa:\n",
    "                return cor_final\n",
    "    return 'nao_mapeado'\n",
    "\n",
    "# --- 3. Aplicação e Validação ---\n",
    "df_estruturas_processed = df_estruturas_raw.copy()\n",
    "df_estruturas_processed['DESC_COR'] = df_estruturas_processed['DESCRICAO_COMPONENTE'].apply(mapear_e_extrair_cor)\n",
    "\n",
    "# Validação\n",
    "pintura_rows = df_estruturas_processed['DESCRICAO_COMPONENTE'].str.upper().str.startswith('PINTURA', na=False)\n",
    "falhas = df_estruturas_processed[pintura_rows & (df_estruturas_processed['DESC_COR'] == 'nao_mapeado')]\n",
    "total_falhas = len(falhas)\n",
    "\n",
    "print(f\"Mapeamento de cores concluído. Total de falhas: {total_falhas}\")\n",
    "if total_falhas > 0:\n",
    "    print(\"\\n>>> ATENÇÃO: As seguintes descrições de pintura não foram mapeadas:\")\n",
    "    with pd.option_context('display.max_rows', 10):\n",
    "        display(falhas[['DESCRICAO_COMPONENTE']])\n",
    "\n",
    "# Substitui o marcador por NaN para o arquivo final\n",
    "df_estruturas_processed['DESC_COR'].replace('nao_mapeado', np.nan, inplace=True)\n",
    "\n",
    "# --- 4. Exportação ---\n",
    "output_path = os.path.join(PROCESSED_DATA_PATH, 'produtos_com_cores_mapeadas.csv')\n",
    "df_estruturas_processed.to_csv(output_path, index=False, sep=';', encoding='utf-8')\n",
    "print(f\"\\nEstrutura de produtos com cores extraídas salva em: {output_path}\")"
   ]
  },
  {
   "cell_type": "code",
   "execution_count": 9,
   "id": "9d4942bb",
   "metadata": {},
   "outputs": [
    {
     "name": "stdout",
     "output_type": "stream",
     "text": [
      "Junção com o dicionário de cores concluída.\n",
      "Linhas com 'DESC_COR' preenchida: 686\n",
      "Dessas, 658 encontraram um 'CODIGO_COR' correspondente.\n",
      "Atenção: 28 cores não encontraram correspondência no Dicionário de Cores.\n",
      "Cores não encontradas:\n"
     ]
    },
    {
     "data": {
      "application/vnd.microsoft.datawrangler.viewer.v0+json": {
       "columns": [
        {
         "name": "DESC_COR",
         "rawType": "object",
         "type": "string"
        },
        {
         "name": "count",
         "rawType": "int64",
         "type": "integer"
        }
       ],
       "ref": "602a78c5-aba1-4f80-bc07-2ceffdacdfa8",
       "rows": [
        [
         "verde",
         "17"
        ],
        [
         "azul claro",
         "11"
        ]
       ],
       "shape": {
        "columns": 1,
        "rows": 2
       }
      },
      "text/plain": [
       "DESC_COR\n",
       "verde         17\n",
       "azul claro    11\n",
       "Name: count, dtype: int64"
      ]
     },
     "metadata": {},
     "output_type": "display_data"
    },
    {
     "name": "stdout",
     "output_type": "stream",
     "text": [
      "\n",
      "Arquivo com códigos de cor vinculados salvo em: ../data/processed/produtos_com_codigo_cor_final.csv\n"
     ]
    }
   ],
   "source": [
    "# ==============================================================================\n",
    "# CÉLULA 5: JUNÇÃO (MERGE) - VINCULANDO CÓDIGOS DE COR À ESTRUTURA\n",
    "# ==============================================================================\n",
    "#\n",
    "# Objetivo:\n",
    "# 1. Unir (merge) o DataFrame de estruturas (com a cor extraída 'DESC_COR')\n",
    "#    com o dicionário de cores processado.\n",
    "# 2. A junção é feita usando a coluna 'DESC_COR' como chave, trazendo o\n",
    "#    'CODIGO_COR' e a 'DESCRICAO_COR' para a tabela principal.\n",
    "# 3. Usamos um 'left merge' para garantir que todas as linhas da estrutura de\n",
    "#    produtos sejam mantidas, mesmo que uma cor não seja encontrada no dicionário.\n",
    "#\n",
    "# ==============================================================================\n",
    "\n",
    "# --- 1. Preparação para o Merge ---\n",
    "# Seleciona apenas as colunas necessárias do dicionário de cores para a junção\n",
    "df_cores_lookup = df_cores_processed[['DESC_COR', 'CODIGO_COR', 'DESCRICAO_COR']].drop_duplicates(subset=['DESC_COR'])\n",
    "\n",
    "# --- 2. Execução do Merge ---\n",
    "df_merged_cores = pd.merge(\n",
    "    df_estruturas_processed,\n",
    "    df_cores_lookup,\n",
    "    on='DESC_COR',\n",
    "    how='left'\n",
    ")\n",
    "\n",
    "# --- 3. Validação ---\n",
    "total_com_cor = df_merged_cores['DESC_COR'].notna().sum()\n",
    "total_mapeado_com_codigo = df_merged_cores['CODIGO_COR'].notna().sum()\n",
    "\n",
    "print(\"Junção com o dicionário de cores concluída.\")\n",
    "print(f\"Linhas com 'DESC_COR' preenchida: {total_com_cor}\")\n",
    "print(f\"Dessas, {total_mapeado_com_codigo} encontraram um 'CODIGO_COR' correspondente.\")\n",
    "\n",
    "if total_com_cor > total_mapeado_com_codigo:\n",
    "    print(f\"Atenção: {total_com_cor - total_mapeado_com_codigo} cores não encontraram correspondência no Dicionário de Cores.\")\n",
    "    cores_nao_encontradas = df_merged_cores[df_merged_cores['DESC_COR'].notna() & df_merged_cores['CODIGO_COR'].isna()]\n",
    "    print(\"Cores não encontradas:\")\n",
    "    display(cores_nao_encontradas['DESC_COR'].value_counts())\n",
    "\n",
    "# --- 4. Exportação ---\n",
    "output_path = os.path.join(PROCESSED_DATA_PATH, 'produtos_com_codigo_cor_final.csv')\n",
    "df_merged_cores.to_csv(output_path, index=False, sep=';', encoding='utf-8')\n",
    "print(f\"\\nArquivo com códigos de cor vinculados salvo em: {output_path}\")"
   ]
  },
  {
   "cell_type": "code",
   "execution_count": 10,
   "id": "d0d9865a",
   "metadata": {},
   "outputs": [
    {
     "name": "stdout",
     "output_type": "stream",
     "text": [
      "ATENÇÃO: 30 componentes não encontraram dados correspondentes de gancheira.\n",
      "Componentes não encontrados:\n"
     ]
    },
    {
     "data": {
      "application/vnd.microsoft.datawrangler.viewer.v0+json": {
       "columns": [
        {
         "name": "Componente",
         "rawType": "object",
         "type": "string"
        },
        {
         "name": "count",
         "rawType": "int64",
         "type": "integer"
        }
       ],
       "ref": "3a88edf5-a994-48e9-8d9b-7c45ccf84469",
       "rows": [
        [
         "Quadro 26",
         "12"
        ],
        [
         "Roda Aro 20",
         "9"
        ],
        [
         "Roda Aro 16",
         "5"
        ],
        [
         "Paralama Traseiro 20",
         "4"
        ]
       ],
       "shape": {
        "columns": 1,
        "rows": 4
       }
      },
      "text/plain": [
       "Componente\n",
       "Quadro 26               12\n",
       "Roda Aro 20              9\n",
       "Roda Aro 16              5\n",
       "Paralama Traseiro 20     4\n",
       "Name: count, dtype: int64"
      ]
     },
     "metadata": {},
     "output_type": "display_data"
    },
    {
     "name": "stdout",
     "output_type": "stream",
     "text": [
      "\n",
      "Arquivo final com detalhes de componentes salvo em: ../data/processed/produtos_com_detalhes_componente.csv\n"
     ]
    }
   ],
   "source": [
    "# ==============================================================================\n",
    "# CÉLULA 6: JUNÇÃO (MERGE) - ADICIONANDO DADOS DE GANCHEIRAS E COMPONENTES\n",
    "# ==============================================================================\n",
    "#\n",
    "# Objetivo:\n",
    "# 1. Enriquecer a base de dados principal com informações técnicas dos\n",
    "#    componentes (dimensões, peso, etc.) do arquivo 'dados.csv'.\n",
    "# 2. Preparar os DataFrames para a junção:\n",
    "#    - Renomear a coluna 'PINTURA_ITEM' para 'Componente' para ser a chave.\n",
    "#    - Limpar nomes de colunas no arquivo de gancheiras.\n",
    "# 3. Realizar um 'left merge' para adicionar as informações técnicas, mantendo\n",
    "#    todas as linhas da estrutura de produtos.\n",
    "#\n",
    "# ==============================================================================\n",
    "\n",
    "# --- 1. Preparação dos DataFrames ---\n",
    "df_com_gancheiras = df_merged_cores.rename(columns={'PINTURA_ITEM': 'Componente'})\n",
    "\n",
    "# Limpa os nomes das colunas de df_gancheiras_raw\n",
    "df_gancheiras_clean = df_gancheiras_raw.rename(columns={\n",
    "    'PeÃ§as p/ gancheira': 'Pecas_p_gancheira',\n",
    "    'PINOS ': 'PINOS',\n",
    "    'Peso (kg)': 'Peso_kg'\n",
    "})\n",
    "\n",
    "# Remove duplicatas na chave de merge\n",
    "df_gancheiras_lookup = df_gancheiras_clean.drop_duplicates(subset=['Componente'])\n",
    "\n",
    "# --- 2. Execução do Merge ---\n",
    "df_final = pd.merge(\n",
    "    df_com_gancheiras,\n",
    "    df_gancheiras_lookup,\n",
    "    on='Componente',\n",
    "    how='left'\n",
    ")\n",
    "\n",
    "# --- 3. Validação ---\n",
    "sem_match = df_final[df_final['Componente'].notna() & df_final['Peso_kg'].isna()]\n",
    "if not sem_match.empty:\n",
    "    print(f\"ATENÇÃO: {len(sem_match)} componentes não encontraram dados correspondentes de gancheira.\")\n",
    "    print(\"Componentes não encontrados:\")\n",
    "    display(sem_match['Componente'].value_counts())\n",
    "\n",
    "# --- 4. Exportação ---\n",
    "output_path = os.path.join(PROCESSED_DATA_PATH, 'produtos_com_detalhes_componente.csv')\n",
    "df_final.to_csv(output_path, index=False, sep=';', encoding='utf-8')\n",
    "print(f\"\\nArquivo final com detalhes de componentes salvo em: {output_path}\")"
   ]
  },
  {
   "cell_type": "code",
   "execution_count": 12,
   "id": "ea912a41",
   "metadata": {},
   "outputs": [
    {
     "name": "stdout",
     "output_type": "stream",
     "text": [
      "Iniciando a limpeza final dos tipos de dados...\n",
      "\n",
      "Tipos de dados do DataFrame final corrigido:\n",
      "<class 'pandas.core.frame.DataFrame'>\n",
      "RangeIndex: 1142 entries, 0 to 1141\n",
      "Data columns (total 19 columns):\n",
      " #   Column                  Non-Null Count  Dtype  \n",
      "---  ------                  --------------  -----  \n",
      " 0   CODIGO_PRODUTO          1141 non-null   Int64  \n",
      " 1   Complemento             1141 non-null   object \n",
      " 2   DESCRICAO_PRODUTO       1141 non-null   object \n",
      " 3   CODIGO_COMPONENTE       1141 non-null   Int64  \n",
      " 4   Complemento_Componente  1141 non-null   object \n",
      " 5   Componente              652 non-null    object \n",
      " 6   LINHA                   718 non-null    object \n",
      " 7   DESCRICAO_COMPONENTE    1141 non-null   object \n",
      " 8   DESC_COR                686 non-null    object \n",
      " 9   CODIGO_COR              658 non-null    Int64  \n",
      " 10  DESCRICAO_COR           658 non-null    object \n",
      " 11  Linha                   652 non-null    object \n",
      " 12  Peças p/ gancheira      652 non-null    float64\n",
      " 13  Espaçamento             652 non-null    float64\n",
      " 14  PINOS                   631 non-null    Int64  \n",
      " 15  Estoque Gancheiras      622 non-null    Int64  \n",
      " 16  Altura                  622 non-null    float64\n",
      " 17  Largura                 0 non-null      float64\n",
      " 18  Peso_kg                 622 non-null    float64\n",
      "dtypes: Int64(5), float64(5), object(9)\n",
      "memory usage: 175.2+ KB\n"
     ]
    }
   ],
   "source": [
    "# ==============================================================================\n",
    "# CÉLULA 7: LIMPEZA E CONVERSÃO FINAL DOS TIPOS DE DADOS\n",
    "# ==============================================================================\n",
    "#\n",
    "# Objetivo:\n",
    "# 1. Corrigir os tipos de dados de todo o DataFrame para garantir que números\n",
    "#    sejam tratados como números (float ou int) e textos como objetos.\n",
    "#    - Colunas decimais com vírgula são convertidas para ponto flutuante (float).\n",
    "#    - Colunas de códigos e contagens são convertidas para Inteiro Nulável ('Int64')\n",
    "#      para permitir valores ausentes (NaN) sem forçar a coluna a ser float.\n",
    "#\n",
    "# ==============================================================================\n",
    "\n",
    "df_cleaned = df_final.copy()\n",
    "print(\"Iniciando a limpeza final dos tipos de dados...\")\n",
    "\n",
    "# --- 1. Conversão de colunas com vírgula para float ---\n",
    "colunas_para_float = ['Espaçamento', 'Peso_kg', 'Altura', 'Largura']\n",
    "for col in colunas_para_float:\n",
    "    if col in df_cleaned.columns:\n",
    "        df_cleaned[col] = pd.to_numeric(\n",
    "            df_cleaned[col].astype(str).str.replace(',', '.', regex=False),\n",
    "            errors='coerce'\n",
    "        )\n",
    "\n",
    "# --- 2. Conversão para Inteiro Nulável ---\n",
    "colunas_para_int = [\n",
    "    'CODIGO_PRODUTO', 'CODIGO_COMPONENTE', 'CODIGO_COR', \n",
    "    'Pecas_p_gancheira', 'PINOS', 'Estoque Gancheiras'\n",
    "]\n",
    "for col in colunas_para_int:\n",
    "    if col in df_cleaned.columns:\n",
    "        # A conversão para float primeiro é um passo seguro para lidar\n",
    "        # com possíveis NaNs antes de converter para Int64.\n",
    "        df_cleaned[col] = pd.to_numeric(df_cleaned[col], errors='coerce').astype('Int64')\n",
    "\n",
    "# --- 3. Verificação ---\n",
    "print(\"\\nTipos de dados do DataFrame final corrigido:\")\n",
    "df_cleaned.info()"
   ]
  },
  {
   "cell_type": "code",
   "execution_count": 13,
   "id": "c5b7a26e",
   "metadata": {},
   "outputs": [
    {
     "name": "stdout",
     "output_type": "stream",
     "text": [
      "\n",
      "Processo concluído com sucesso!\n",
      "O dataset final consolidado foi salvo em:\n",
      "CSV: ../data/processed/Planilha_Estruturas - Produto_Cor_Dim.csv\n",
      "Excel: ../data/processed/Planilha_Estruturas - Produto_Cor_Dim.xlsx\n"
     ]
    }
   ],
   "source": [
    "# ==============================================================================\n",
    "# CÉLULA 8: EXPORTAÇÃO DO DATASET FINAL CONSOLIDADO\n",
    "# ==============================================================================\n",
    "#\n",
    "# Objetivo:\n",
    "# 1. Salvar o DataFrame final, totalmente processado, enriquecido e com os\n",
    "#    tipos de dados corretos, nos formatos CSV e Excel.\n",
    "# 2. O nome do arquivo foi ajustado conforme solicitado.\n",
    "#\n",
    "# ==============================================================================\n",
    "\n",
    "# --- Definindo os nomes e caminhos de saída ---\n",
    "output_filename = 'Planilha_Estruturas - Produto_Cor_Dim'\n",
    "output_path_csv = os.path.join(PROCESSED_DATA_PATH, f'{output_filename}.csv')\n",
    "output_path_xlsx = os.path.join(PROCESSED_DATA_PATH, f'{output_filename}.xlsx')\n",
    "\n",
    "# --- Exportando os arquivos ---\n",
    "df_cleaned.to_csv(output_path_csv, index=False, sep=';', encoding='ISO-8859-1')\n",
    "df_cleaned.to_excel(output_path_xlsx, index=False)\n",
    "\n",
    "print(\"\\nProcesso concluído com sucesso!\")\n",
    "print(\"O dataset final consolidado foi salvo em:\")\n",
    "print(f\"CSV: {output_path_csv}\")\n",
    "print(f\"Excel: {output_path_xlsx}\")"
   ]
  }
 ],
 "metadata": {
  "kernelspec": {
   "display_name": ".venv",
   "language": "python",
   "name": "python3"
  },
  "language_info": {
   "codemirror_mode": {
    "name": "ipython",
    "version": 3
   },
   "file_extension": ".py",
   "mimetype": "text/x-python",
   "name": "python",
   "nbconvert_exporter": "python",
   "pygments_lexer": "ipython3",
   "version": "3.12.3"
  }
 },
 "nbformat": 4,
 "nbformat_minor": 5
}
